{
 "cells": [
  {
   "cell_type": "code",
   "execution_count": 2,
   "id": "63acf6d3",
   "metadata": {},
   "outputs": [],
   "source": [
    "import math\n",
    "import random\n",
    "import pandas as pd"
   ]
  },
  {
   "cell_type": "markdown",
   "id": "08a7b453",
   "metadata": {},
   "source": [
    "### 01"
   ]
  },
  {
   "cell_type": "code",
   "execution_count": 14,
   "id": "517d391e",
   "metadata": {},
   "outputs": [
    {
     "data": {
      "text/plain": [
       "[4, 9, 16, 25, 36, 49, 64, 81]"
      ]
     },
     "execution_count": 14,
     "metadata": {},
     "output_type": "execute_result"
    }
   ],
   "source": [
    "squareNumbers=[x**2 for x in range(2,10)]\n",
    "squareNumbers\n",
    "    "
   ]
  },
  {
   "cell_type": "markdown",
   "id": "cdfd761f",
   "metadata": {},
   "source": [
    "### 02"
   ]
  },
  {
   "cell_type": "code",
   "execution_count": 13,
   "id": "8c79ab54",
   "metadata": {},
   "outputs": [
    {
     "data": {
      "text/plain": [
       "[4, 9, 16, 25, 36, 49]"
      ]
     },
     "execution_count": 13,
     "metadata": {},
     "output_type": "execute_result"
    }
   ],
   "source": [
    "squareNumbers=[x**2 for x in range(2,8)]\n",
    "squareNumbers                              "
   ]
  },
  {
   "cell_type": "markdown",
   "id": "0eb2974d",
   "metadata": {},
   "source": [
    "### 03"
   ]
  },
  {
   "cell_type": "code",
   "execution_count": 18,
   "id": "3973e707",
   "metadata": {},
   "outputs": [
    {
     "data": {
      "text/plain": [
       "{'számok': [2, 3, 4, 5, 6, 7, 8, 9],\n",
       " 'négyzetei': [4, 9, 16, 25, 36, 49, 64, 81]}"
      ]
     },
     "execution_count": 18,
     "metadata": {},
     "output_type": "execute_result"
    }
   ],
   "source": [
    "numbers=list(range(2,10))\n",
    "squareNumbers=[x**2 for x in range(2,10)]\n",
    "dictionary={'számok':numbers,'négyzetei':squareNumbers}\n",
    "dictionary\n"
   ]
  },
  {
   "cell_type": "markdown",
   "id": "36060cf8",
   "metadata": {},
   "source": [
    "### 04"
   ]
  },
  {
   "cell_type": "code",
   "execution_count": 28,
   "id": "9e623863",
   "metadata": {},
   "outputs": [
    {
     "data": {
      "text/plain": [
       "[4, 1.7320508075688772, 16, 2.23606797749979, 36, 2.6457513110645907, 64, 3.0]"
      ]
     },
     "execution_count": 28,
     "metadata": {},
     "output_type": "execute_result"
    }
   ],
   "source": [
    "numbers=[x**2 if x%2==0 else math.sqrt(x) for x in range(2,10)]\n",
    "numbers"
   ]
  },
  {
   "cell_type": "markdown",
   "id": "66cfe9e1",
   "metadata": {},
   "source": [
    "### 05"
   ]
  },
  {
   "cell_type": "code",
   "execution_count": 33,
   "id": "f21c016c",
   "metadata": {},
   "outputs": [
    {
     "data": {
      "text/plain": [
       "['Profi', 'Python', 'lista', 'generálás']"
      ]
     },
     "execution_count": 33,
     "metadata": {},
     "output_type": "execute_result"
    }
   ],
   "source": [
    "L1 = [\"Pro\", \"Py\", \"lis\", \"gener\"]\n",
    "L2 = [\"fi\", \"thon\", \"ta\", \"álás\"]\n",
    "L3=[x+y for x,y in zip(L1,L2)]\n",
    "L3\n"
   ]
  },
  {
   "cell_type": "markdown",
   "id": "e587d612",
   "metadata": {},
   "source": [
    "### 06"
   ]
  },
  {
   "cell_type": "code",
   "execution_count": 36,
   "id": "5f27888c",
   "metadata": {},
   "outputs": [
    {
     "data": {
      "text/plain": [
       "['Profi', 'Python', 'lista', 'generálás']"
      ]
     },
     "execution_count": 36,
     "metadata": {},
     "output_type": "execute_result"
    }
   ],
   "source": [
    "lst = [\"Profi\", \"\", \"Python\", \"\", \"lista\", \"generálás\", \"\"]\n",
    "filteredObject=filter(lambda x: x != \"\", lst)\n",
    "noEmptyString=list(filteredObject)\n",
    "noEmptyString\n"
   ]
  },
  {
   "cell_type": "markdown",
   "id": "a40d4636",
   "metadata": {},
   "source": [
    "### 07"
   ]
  },
  {
   "cell_type": "code",
   "execution_count": 106,
   "id": "a6974e96",
   "metadata": {},
   "outputs": [
    {
     "name": "stdout",
     "output_type": "stream",
     "text": [
      "0\n",
      "1\n",
      "1\n",
      "2\n",
      "3\n",
      "5\n",
      "8\n",
      "13\n",
      "21\n",
      "34\n",
      "Vége\n",
      "38 már nem Fibonacchi szám\n"
     ]
    }
   ],
   "source": [
    "def fibonacci(max):\n",
    "    L=0\n",
    "    C=1\n",
    "    if max > 0:    \n",
    "        x=0\n",
    "        print(L)\n",
    "        print(C)\n",
    "        while x <= max:            \n",
    "            x=L+C\n",
    "            L=C\n",
    "            C=x \n",
    "            if x<= max and x <= L+C:\n",
    "                print(x)\n",
    "            else:\n",
    "                print(\"Vége\")\n",
    "                print(max,\"már nem Fibonacci szám\")\n",
    "    elif max==0:\n",
    "        print(L)\n",
    "    else:\n",
    "        print(\"Hibás paraméter\")\n",
    "        \n",
    "#teszt esetek:      \n",
    "fibonacci(38)\n",
    "#fibonacci(0)\n",
    "#fibonacci(-1)\n",
    "#fibonacci(34)\n",
    "#fibonacci(1)\n",
    "#fibonacci(2)\n",
    "\n",
    "        \n",
    "    "
   ]
  },
  {
   "cell_type": "markdown",
   "id": "3e031190",
   "metadata": {},
   "source": [
    "### 08"
   ]
  },
  {
   "cell_type": "code",
   "execution_count": 12,
   "id": "038a9e06",
   "metadata": {},
   "outputs": [
    {
     "data": {
      "text/plain": [
       "[4, 5, 7]"
      ]
     },
     "execution_count": 12,
     "metadata": {},
     "output_type": "execute_result"
    }
   ],
   "source": [
    "def listGenLength(min,max,len):\n",
    "    generatedList=random.sample(range(min,max),len)\n",
    "    return generatedList\n",
    "\n",
    "#L1=[1,2,3,4]\n",
    "#L2=[2,3,4,5]\n",
    "# listák feltöltése véletlen számokkal\n",
    "L1=listGenLength(0,10,5)\n",
    "L2=listGenLength(0,10,6)\n",
    "L3=list(set(L1).intersection(L2))\n",
    "L3"
   ]
  },
  {
   "cell_type": "markdown",
   "id": "d83886e3",
   "metadata": {},
   "source": [
    "### 09"
   ]
  },
  {
   "cell_type": "code",
   "execution_count": 27,
   "id": "c366aee3",
   "metadata": {},
   "outputs": [
    {
     "data": {
      "text/plain": [
       "1"
      ]
     },
     "execution_count": 27,
     "metadata": {},
     "output_type": "execute_result"
    }
   ],
   "source": [
    "def countEvenOddCounter(isEven,lst):    \n",
    "    if isEven==\"true\":\n",
    "        count = len(list(filter(lambda x: (x%2 == 0) , lst)))\n",
    "    else:\n",
    "        count = len(list(filter(lambda x: (x%2 != 0) , lst)))\n",
    "    return count\n",
    "\n",
    "#L1=[1,2,3,4]\n",
    "L1=listGenLength(0,10,5)\n",
    "n=countEvenOddCounter(\"true\",L1)\n",
    "n"
   ]
  },
  {
   "cell_type": "markdown",
   "id": "977cdc94",
   "metadata": {},
   "source": [
    "### 10"
   ]
  },
  {
   "cell_type": "code",
   "execution_count": 39,
   "id": "1ae0f11c",
   "metadata": {},
   "outputs": [
    {
     "data": {
      "text/plain": [
       "[1, 4, 3, 8]"
      ]
     },
     "execution_count": 39,
     "metadata": {},
     "output_type": "execute_result"
    }
   ],
   "source": [
    "def multipleIf(number,lst):\n",
    "    lst=[(lambda x: x*2 if x%number==0 else x)(x) for x in lst]\n",
    "    return lst\n",
    "    \n",
    "L1=[1,2,3,4]\n",
    "L1=multipleIf(2,L1)\n",
    "L1"
   ]
  },
  {
   "cell_type": "markdown",
   "id": "a13dead4",
   "metadata": {},
   "source": [
    "### 11a"
   ]
  },
  {
   "cell_type": "code",
   "execution_count": 45,
   "id": "1ff92fc2",
   "metadata": {},
   "outputs": [
    {
     "data": {
      "text/plain": [
       "['P', 'y', 'n', 'o', 't', 'h']"
      ]
     },
     "execution_count": 45,
     "metadata": {},
     "output_type": "execute_result"
    }
   ],
   "source": [
    "def uniqueLetters(lst):\n",
    "    lst=list(set(lst))\n",
    "    return lst\n",
    "\n",
    "L1=\"Pythooon\"\n",
    "uniqueLetters(L1)"
   ]
  },
  {
   "cell_type": "markdown",
   "id": "bc7b3af2",
   "metadata": {},
   "source": [
    "### 11b"
   ]
  },
  {
   "cell_type": "code",
   "execution_count": 50,
   "id": "6a55af9a",
   "metadata": {},
   "outputs": [
    {
     "data": {
      "text/plain": [
       "6"
      ]
     },
     "execution_count": 50,
     "metadata": {},
     "output_type": "execute_result"
    }
   ],
   "source": [
    "def uniqueLetters(lst):\n",
    "    lst=list(set(lst));\n",
    "    return len(lst);\n",
    "\n",
    "L1=\"Pythooon\"\n",
    "uniqueLetters(L1)"
   ]
  },
  {
   "cell_type": "markdown",
   "id": "8601da66",
   "metadata": {},
   "source": [
    "### 12"
   ]
  },
  {
   "cell_type": "code",
   "execution_count": 10,
   "id": "2a4d1a09",
   "metadata": {},
   "outputs": [
    {
     "data": {
      "text/plain": [
       "['Alabama', 'California', 'Hawaii', 'New York', 'Vermont', 'West Virginia']"
      ]
     },
     "execution_count": 10,
     "metadata": {},
     "output_type": "execute_result"
    }
   ],
   "source": [
    "lst = [(19542209, \"New York\") ,(4887871, \"Alabama\"), (1420491, \"Hawaii\"),\n",
    "(626299, \"Vermont\"), (1805832, \"West Virginia\"), (39865590, \"California\")]\n",
    "df=pd.DataFrame(lst)\n",
    "df.sort_values(by=1,ascending=True,inplace=True)\n",
    "#az első oszlopot listává alakítjuk\n",
    "lst=df[1].tolist()\n",
    "lst\n"
   ]
  },
  {
   "cell_type": "markdown",
   "id": "37eaff8d",
   "metadata": {},
   "source": [
    "### 13a"
   ]
  },
  {
   "cell_type": "code",
   "execution_count": 19,
   "id": "d070d5ef",
   "metadata": {},
   "outputs": [
    {
     "name": "stdout",
     "output_type": "stream",
     "text": [
      "['NFLX', 'TREX']\n"
     ]
    }
   ],
   "source": [
    "dct = {\"NFLX\":4950,\"TREX\":2400,\"FIZZ\":1800, \"XPO\":1700}\n",
    "x=[]\n",
    "for key in dct.keys():\n",
    "    if dct[key]>2000:\n",
    "        x.append(key)\n",
    "print(x)"
   ]
  },
  {
   "cell_type": "markdown",
   "id": "73a0a234",
   "metadata": {},
   "source": [
    "### 13b"
   ]
  },
  {
   "cell_type": "code",
   "execution_count": 21,
   "id": "10fcdc1e",
   "metadata": {},
   "outputs": [
    {
     "data": {
      "text/plain": [
       "{4950: ['NFLX'], 2400: ['TREX'], 1800: ['FIZZ'], 1700: ['XPO']}"
      ]
     },
     "execution_count": 21,
     "metadata": {},
     "output_type": "execute_result"
    }
   ],
   "source": [
    "dct = {\"NFLX\":4950,\"TREX\":2400,\"FIZZ\":1800, \"XPO\":1700}\n",
    "invertedMap = {}\n",
    "for key, value in dct.items():\n",
    "    invertedMap[value] = invertedMap.get(value, []) + [key]\n",
    "invertedMap"
   ]
  },
  {
   "cell_type": "markdown",
   "id": "16b32786",
   "metadata": {},
   "source": [
    "### 14a"
   ]
  },
  {
   "cell_type": "code",
   "execution_count": 29,
   "id": "b7cf9dae",
   "metadata": {},
   "outputs": [
    {
     "name": "stdout",
     "output_type": "stream",
     "text": [
      "!?iboneK lareneG .ereht olleH\n"
     ]
    }
   ],
   "source": [
    "def invertString(toInvert):\n",
    "    return toInvert[::-1]\n",
    "\n",
    "s1=\"Hello there. General Kenobi?!\" \n",
    "s1=invertString(s1)\n",
    "print(s1)"
   ]
  },
  {
   "cell_type": "markdown",
   "id": "9ab4f490",
   "metadata": {},
   "source": [
    "### 14b"
   ]
  },
  {
   "cell_type": "code",
   "execution_count": 38,
   "id": "fe5626ee",
   "metadata": {},
   "outputs": [
    {
     "data": {
      "text/plain": [
       "['dad', 'anna', '1881']"
      ]
     },
     "execution_count": 38,
     "metadata": {},
     "output_type": "execute_result"
    }
   ],
   "source": [
    "def isPalindrome(toInvert):\n",
    "    if toInvert==invertString(toInvert):\n",
    "        return \"true\"\n",
    "    else:\n",
    "        return \"false\"\n",
    "\n",
    "def palindromeSearcher(lst):\n",
    "    palindromes=[]\n",
    "    for x in lst:\n",
    "        if isPalindrome(x)==\"true\":\n",
    "               palindromes.append(x)\n",
    "    return palindromes\n",
    "            \n",
    "L1=[\"dad\",\"anna\",\"1881\",\"Péter\"]\n",
    "L1=palindromeSearcher(L1)\n",
    "L1"
   ]
  },
  {
   "cell_type": "code",
   "execution_count": null,
   "id": "c7921b58",
   "metadata": {},
   "outputs": [],
   "source": []
  }
 ],
 "metadata": {
  "kernelspec": {
   "display_name": "Python 3 (ipykernel)",
   "language": "python",
   "name": "python3"
  },
  "language_info": {
   "codemirror_mode": {
    "name": "ipython",
    "version": 3
   },
   "file_extension": ".py",
   "mimetype": "text/x-python",
   "name": "python",
   "nbconvert_exporter": "python",
   "pygments_lexer": "ipython3",
   "version": "3.9.7"
  }
 },
 "nbformat": 4,
 "nbformat_minor": 5
}
